{
 "cells": [
  {
   "cell_type": "code",
   "execution_count": 6,
   "id": "e93bc395",
   "metadata": {},
   "outputs": [],
   "source": [
    "import cv2 "
   ]
  },
  {
   "cell_type": "code",
   "execution_count": 7,
   "id": "c84b312b",
   "metadata": {},
   "outputs": [],
   "source": [
    "face_cascade = cv2.CascadeClassifier(cv2.data.haarcascades +'haarcascade_frontalface_default.xml')\n"
   ]
  },
  {
   "cell_type": "code",
   "execution_count": 8,
   "id": "3e17e131",
   "metadata": {},
   "outputs": [],
   "source": [
    "\n",
    "#comment charger une image\n",
    "\n",
    "img=cv2.imread('momo.JPG')\n",
    " \n"
   ]
  },
  {
   "cell_type": "code",
   "execution_count": 9,
   "id": "b1a15986",
   "metadata": {},
   "outputs": [],
   "source": [
    "\n",
    "#detection de visages avec cascades \n",
    "faces = face_cascade.detectMultiScale(img, scaleFactor=1.3, minNeighbors=5)\n",
    "\n"
   ]
  },
  {
   "cell_type": "code",
   "execution_count": 10,
   "id": "e742dde3",
   "metadata": {},
   "outputs": [],
   "source": [
    "#dessiner les rectangles autour des visages\n",
    "for (x, y, w, h) in faces:\n",
    "            cv2.rectangle(img, (x, y), (x + w, y + h), (0, 255, 0), 2)\n",
    "\n",
    "\n",
    "cv2.imshow('image detecter', img)\n",
    "cv2.waitKey(0)        \n",
    "       \n",
    "cv2.destroyAllWindows()"
   ]
  },
  {
   "cell_type": "code",
   "execution_count": null,
   "id": "f290decd",
   "metadata": {},
   "outputs": [],
   "source": []
  }
 ],
 "metadata": {
  "kernelspec": {
   "display_name": "Python 3 (ipykernel)",
   "language": "python",
   "name": "python3"
  },
  "language_info": {
   "codemirror_mode": {
    "name": "ipython",
    "version": 3
   },
   "file_extension": ".py",
   "mimetype": "text/x-python",
   "name": "python",
   "nbconvert_exporter": "python",
   "pygments_lexer": "ipython3",
   "version": "3.10.9"
  }
 },
 "nbformat": 4,
 "nbformat_minor": 5
}
